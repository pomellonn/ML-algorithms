{
  "cells": [
    {
      "cell_type": "markdown",
      "metadata": {
        "id": "view-in-github",
        "colab_type": "text"
      },
      "source": [
        "<a href=\"https://colab.research.google.com/github/pomellonn/ML-algorithms/blob/main/hm_linear_models_tasks_2022_fall.ipynb\" target=\"_parent\"><img src=\"https://colab.research.google.com/assets/colab-badge.svg\" alt=\"Open In Colab\"/></a>"
      ]
    },
    {
      "cell_type": "markdown",
      "metadata": {
        "id": "jXMzsrzpO6j9"
      },
      "source": [
        "# Домашнее задание - линейная регрессия"
      ]
    },
    {
      "cell_type": "markdown",
      "metadata": {
        "id": "msmgsAw6O6kB"
      },
      "source": [
        "### Работа с признаками (8 баллов)"
      ]
    },
    {
      "cell_type": "code",
      "source": [
        "import pandas as pd\n",
        "import numpy as np\n",
        "import seaborn as sns\n",
        "import matplotlib.pyplot as plt\n",
        "from sklearn.linear_model import LinearRegression\n",
        "from sklearn.model_selection import train_test_split\n",
        "from sklearn.metrics import mean_squared_error"
      ],
      "metadata": {
        "id": "aRKCBoMnPMIR"
      },
      "execution_count": 29,
      "outputs": []
    },
    {
      "cell_type": "code",
      "source": [
        "df = pd.read_csv('travel insurance.csv')\n",
        "df.info()\n",
        "df.head(5)"
      ],
      "metadata": {
        "colab": {
          "base_uri": "https://localhost:8080/",
          "height": 629
        },
        "id": "BZ-nDG_uPLEz",
        "outputId": "74b5215e-6cbc-4f26-df40-2ac1d668c929"
      },
      "execution_count": 30,
      "outputs": [
        {
          "output_type": "stream",
          "name": "stdout",
          "text": [
            "<class 'pandas.core.frame.DataFrame'>\n",
            "RangeIndex: 63326 entries, 0 to 63325\n",
            "Data columns (total 11 columns):\n",
            " #   Column                Non-Null Count  Dtype  \n",
            "---  ------                --------------  -----  \n",
            " 0   Agency                63326 non-null  object \n",
            " 1   Agency Type           63326 non-null  object \n",
            " 2   Distribution Channel  63326 non-null  object \n",
            " 3   Product Name          63326 non-null  object \n",
            " 4   Claim                 63326 non-null  object \n",
            " 5   Duration              63326 non-null  int64  \n",
            " 6   Destination           63326 non-null  object \n",
            " 7   Net Sales             63326 non-null  float64\n",
            " 8   Commision (in value)  63326 non-null  float64\n",
            " 9   Gender                18219 non-null  object \n",
            " 10  Age                   63326 non-null  int64  \n",
            "dtypes: float64(2), int64(2), object(7)\n",
            "memory usage: 5.3+ MB\n"
          ]
        },
        {
          "output_type": "execute_result",
          "data": {
            "text/plain": [
              "  Agency    Agency Type Distribution Channel                     Product Name  \\\n",
              "0    CBH  Travel Agency              Offline               Comprehensive Plan   \n",
              "1    CBH  Travel Agency              Offline               Comprehensive Plan   \n",
              "2    CWT  Travel Agency               Online  Rental Vehicle Excess Insurance   \n",
              "3    CWT  Travel Agency               Online  Rental Vehicle Excess Insurance   \n",
              "4    CWT  Travel Agency               Online  Rental Vehicle Excess Insurance   \n",
              "\n",
              "  Claim  Duration Destination  Net Sales  Commision (in value) Gender  Age  \n",
              "0    No       186    MALAYSIA      -29.0                  9.57      F   81  \n",
              "1    No       186    MALAYSIA      -29.0                  9.57      F   71  \n",
              "2    No        65   AUSTRALIA      -49.5                 29.70    NaN   32  \n",
              "3    No        60   AUSTRALIA      -39.6                 23.76    NaN   32  \n",
              "4    No        79       ITALY      -19.8                 11.88    NaN   41  "
            ],
            "text/html": [
              "\n",
              "  <div id=\"df-478517f9-7d86-486d-8afc-203eced70db0\" class=\"colab-df-container\">\n",
              "    <div>\n",
              "<style scoped>\n",
              "    .dataframe tbody tr th:only-of-type {\n",
              "        vertical-align: middle;\n",
              "    }\n",
              "\n",
              "    .dataframe tbody tr th {\n",
              "        vertical-align: top;\n",
              "    }\n",
              "\n",
              "    .dataframe thead th {\n",
              "        text-align: right;\n",
              "    }\n",
              "</style>\n",
              "<table border=\"1\" class=\"dataframe\">\n",
              "  <thead>\n",
              "    <tr style=\"text-align: right;\">\n",
              "      <th></th>\n",
              "      <th>Agency</th>\n",
              "      <th>Agency Type</th>\n",
              "      <th>Distribution Channel</th>\n",
              "      <th>Product Name</th>\n",
              "      <th>Claim</th>\n",
              "      <th>Duration</th>\n",
              "      <th>Destination</th>\n",
              "      <th>Net Sales</th>\n",
              "      <th>Commision (in value)</th>\n",
              "      <th>Gender</th>\n",
              "      <th>Age</th>\n",
              "    </tr>\n",
              "  </thead>\n",
              "  <tbody>\n",
              "    <tr>\n",
              "      <th>0</th>\n",
              "      <td>CBH</td>\n",
              "      <td>Travel Agency</td>\n",
              "      <td>Offline</td>\n",
              "      <td>Comprehensive Plan</td>\n",
              "      <td>No</td>\n",
              "      <td>186</td>\n",
              "      <td>MALAYSIA</td>\n",
              "      <td>-29.0</td>\n",
              "      <td>9.57</td>\n",
              "      <td>F</td>\n",
              "      <td>81</td>\n",
              "    </tr>\n",
              "    <tr>\n",
              "      <th>1</th>\n",
              "      <td>CBH</td>\n",
              "      <td>Travel Agency</td>\n",
              "      <td>Offline</td>\n",
              "      <td>Comprehensive Plan</td>\n",
              "      <td>No</td>\n",
              "      <td>186</td>\n",
              "      <td>MALAYSIA</td>\n",
              "      <td>-29.0</td>\n",
              "      <td>9.57</td>\n",
              "      <td>F</td>\n",
              "      <td>71</td>\n",
              "    </tr>\n",
              "    <tr>\n",
              "      <th>2</th>\n",
              "      <td>CWT</td>\n",
              "      <td>Travel Agency</td>\n",
              "      <td>Online</td>\n",
              "      <td>Rental Vehicle Excess Insurance</td>\n",
              "      <td>No</td>\n",
              "      <td>65</td>\n",
              "      <td>AUSTRALIA</td>\n",
              "      <td>-49.5</td>\n",
              "      <td>29.70</td>\n",
              "      <td>NaN</td>\n",
              "      <td>32</td>\n",
              "    </tr>\n",
              "    <tr>\n",
              "      <th>3</th>\n",
              "      <td>CWT</td>\n",
              "      <td>Travel Agency</td>\n",
              "      <td>Online</td>\n",
              "      <td>Rental Vehicle Excess Insurance</td>\n",
              "      <td>No</td>\n",
              "      <td>60</td>\n",
              "      <td>AUSTRALIA</td>\n",
              "      <td>-39.6</td>\n",
              "      <td>23.76</td>\n",
              "      <td>NaN</td>\n",
              "      <td>32</td>\n",
              "    </tr>\n",
              "    <tr>\n",
              "      <th>4</th>\n",
              "      <td>CWT</td>\n",
              "      <td>Travel Agency</td>\n",
              "      <td>Online</td>\n",
              "      <td>Rental Vehicle Excess Insurance</td>\n",
              "      <td>No</td>\n",
              "      <td>79</td>\n",
              "      <td>ITALY</td>\n",
              "      <td>-19.8</td>\n",
              "      <td>11.88</td>\n",
              "      <td>NaN</td>\n",
              "      <td>41</td>\n",
              "    </tr>\n",
              "  </tbody>\n",
              "</table>\n",
              "</div>\n",
              "    <div class=\"colab-df-buttons\">\n",
              "\n",
              "  <div class=\"colab-df-container\">\n",
              "    <button class=\"colab-df-convert\" onclick=\"convertToInteractive('df-478517f9-7d86-486d-8afc-203eced70db0')\"\n",
              "            title=\"Convert this dataframe to an interactive table.\"\n",
              "            style=\"display:none;\">\n",
              "\n",
              "  <svg xmlns=\"http://www.w3.org/2000/svg\" height=\"24px\" viewBox=\"0 -960 960 960\">\n",
              "    <path d=\"M120-120v-720h720v720H120Zm60-500h600v-160H180v160Zm220 220h160v-160H400v160Zm0 220h160v-160H400v160ZM180-400h160v-160H180v160Zm440 0h160v-160H620v160ZM180-180h160v-160H180v160Zm440 0h160v-160H620v160Z\"/>\n",
              "  </svg>\n",
              "    </button>\n",
              "\n",
              "  <style>\n",
              "    .colab-df-container {\n",
              "      display:flex;\n",
              "      gap: 12px;\n",
              "    }\n",
              "\n",
              "    .colab-df-convert {\n",
              "      background-color: #E8F0FE;\n",
              "      border: none;\n",
              "      border-radius: 50%;\n",
              "      cursor: pointer;\n",
              "      display: none;\n",
              "      fill: #1967D2;\n",
              "      height: 32px;\n",
              "      padding: 0 0 0 0;\n",
              "      width: 32px;\n",
              "    }\n",
              "\n",
              "    .colab-df-convert:hover {\n",
              "      background-color: #E2EBFA;\n",
              "      box-shadow: 0px 1px 2px rgba(60, 64, 67, 0.3), 0px 1px 3px 1px rgba(60, 64, 67, 0.15);\n",
              "      fill: #174EA6;\n",
              "    }\n",
              "\n",
              "    .colab-df-buttons div {\n",
              "      margin-bottom: 4px;\n",
              "    }\n",
              "\n",
              "    [theme=dark] .colab-df-convert {\n",
              "      background-color: #3B4455;\n",
              "      fill: #D2E3FC;\n",
              "    }\n",
              "\n",
              "    [theme=dark] .colab-df-convert:hover {\n",
              "      background-color: #434B5C;\n",
              "      box-shadow: 0px 1px 3px 1px rgba(0, 0, 0, 0.15);\n",
              "      filter: drop-shadow(0px 1px 2px rgba(0, 0, 0, 0.3));\n",
              "      fill: #FFFFFF;\n",
              "    }\n",
              "  </style>\n",
              "\n",
              "    <script>\n",
              "      const buttonEl =\n",
              "        document.querySelector('#df-478517f9-7d86-486d-8afc-203eced70db0 button.colab-df-convert');\n",
              "      buttonEl.style.display =\n",
              "        google.colab.kernel.accessAllowed ? 'block' : 'none';\n",
              "\n",
              "      async function convertToInteractive(key) {\n",
              "        const element = document.querySelector('#df-478517f9-7d86-486d-8afc-203eced70db0');\n",
              "        const dataTable =\n",
              "          await google.colab.kernel.invokeFunction('convertToInteractive',\n",
              "                                                    [key], {});\n",
              "        if (!dataTable) return;\n",
              "\n",
              "        const docLinkHtml = 'Like what you see? Visit the ' +\n",
              "          '<a target=\"_blank\" href=https://colab.research.google.com/notebooks/data_table.ipynb>data table notebook</a>'\n",
              "          + ' to learn more about interactive tables.';\n",
              "        element.innerHTML = '';\n",
              "        dataTable['output_type'] = 'display_data';\n",
              "        await google.colab.output.renderOutput(dataTable, element);\n",
              "        const docLink = document.createElement('div');\n",
              "        docLink.innerHTML = docLinkHtml;\n",
              "        element.appendChild(docLink);\n",
              "      }\n",
              "    </script>\n",
              "  </div>\n",
              "\n",
              "\n",
              "    <div id=\"df-6085f689-5141-4a8b-8b88-294b5f51bf49\">\n",
              "      <button class=\"colab-df-quickchart\" onclick=\"quickchart('df-6085f689-5141-4a8b-8b88-294b5f51bf49')\"\n",
              "                title=\"Suggest charts\"\n",
              "                style=\"display:none;\">\n",
              "\n",
              "<svg xmlns=\"http://www.w3.org/2000/svg\" height=\"24px\"viewBox=\"0 0 24 24\"\n",
              "     width=\"24px\">\n",
              "    <g>\n",
              "        <path d=\"M19 3H5c-1.1 0-2 .9-2 2v14c0 1.1.9 2 2 2h14c1.1 0 2-.9 2-2V5c0-1.1-.9-2-2-2zM9 17H7v-7h2v7zm4 0h-2V7h2v10zm4 0h-2v-4h2v4z\"/>\n",
              "    </g>\n",
              "</svg>\n",
              "      </button>\n",
              "\n",
              "<style>\n",
              "  .colab-df-quickchart {\n",
              "      --bg-color: #E8F0FE;\n",
              "      --fill-color: #1967D2;\n",
              "      --hover-bg-color: #E2EBFA;\n",
              "      --hover-fill-color: #174EA6;\n",
              "      --disabled-fill-color: #AAA;\n",
              "      --disabled-bg-color: #DDD;\n",
              "  }\n",
              "\n",
              "  [theme=dark] .colab-df-quickchart {\n",
              "      --bg-color: #3B4455;\n",
              "      --fill-color: #D2E3FC;\n",
              "      --hover-bg-color: #434B5C;\n",
              "      --hover-fill-color: #FFFFFF;\n",
              "      --disabled-bg-color: #3B4455;\n",
              "      --disabled-fill-color: #666;\n",
              "  }\n",
              "\n",
              "  .colab-df-quickchart {\n",
              "    background-color: var(--bg-color);\n",
              "    border: none;\n",
              "    border-radius: 50%;\n",
              "    cursor: pointer;\n",
              "    display: none;\n",
              "    fill: var(--fill-color);\n",
              "    height: 32px;\n",
              "    padding: 0;\n",
              "    width: 32px;\n",
              "  }\n",
              "\n",
              "  .colab-df-quickchart:hover {\n",
              "    background-color: var(--hover-bg-color);\n",
              "    box-shadow: 0 1px 2px rgba(60, 64, 67, 0.3), 0 1px 3px 1px rgba(60, 64, 67, 0.15);\n",
              "    fill: var(--button-hover-fill-color);\n",
              "  }\n",
              "\n",
              "  .colab-df-quickchart-complete:disabled,\n",
              "  .colab-df-quickchart-complete:disabled:hover {\n",
              "    background-color: var(--disabled-bg-color);\n",
              "    fill: var(--disabled-fill-color);\n",
              "    box-shadow: none;\n",
              "  }\n",
              "\n",
              "  .colab-df-spinner {\n",
              "    border: 2px solid var(--fill-color);\n",
              "    border-color: transparent;\n",
              "    border-bottom-color: var(--fill-color);\n",
              "    animation:\n",
              "      spin 1s steps(1) infinite;\n",
              "  }\n",
              "\n",
              "  @keyframes spin {\n",
              "    0% {\n",
              "      border-color: transparent;\n",
              "      border-bottom-color: var(--fill-color);\n",
              "      border-left-color: var(--fill-color);\n",
              "    }\n",
              "    20% {\n",
              "      border-color: transparent;\n",
              "      border-left-color: var(--fill-color);\n",
              "      border-top-color: var(--fill-color);\n",
              "    }\n",
              "    30% {\n",
              "      border-color: transparent;\n",
              "      border-left-color: var(--fill-color);\n",
              "      border-top-color: var(--fill-color);\n",
              "      border-right-color: var(--fill-color);\n",
              "    }\n",
              "    40% {\n",
              "      border-color: transparent;\n",
              "      border-right-color: var(--fill-color);\n",
              "      border-top-color: var(--fill-color);\n",
              "    }\n",
              "    60% {\n",
              "      border-color: transparent;\n",
              "      border-right-color: var(--fill-color);\n",
              "    }\n",
              "    80% {\n",
              "      border-color: transparent;\n",
              "      border-right-color: var(--fill-color);\n",
              "      border-bottom-color: var(--fill-color);\n",
              "    }\n",
              "    90% {\n",
              "      border-color: transparent;\n",
              "      border-bottom-color: var(--fill-color);\n",
              "    }\n",
              "  }\n",
              "</style>\n",
              "\n",
              "      <script>\n",
              "        async function quickchart(key) {\n",
              "          const quickchartButtonEl =\n",
              "            document.querySelector('#' + key + ' button');\n",
              "          quickchartButtonEl.disabled = true;  // To prevent multiple clicks.\n",
              "          quickchartButtonEl.classList.add('colab-df-spinner');\n",
              "          try {\n",
              "            const charts = await google.colab.kernel.invokeFunction(\n",
              "                'suggestCharts', [key], {});\n",
              "          } catch (error) {\n",
              "            console.error('Error during call to suggestCharts:', error);\n",
              "          }\n",
              "          quickchartButtonEl.classList.remove('colab-df-spinner');\n",
              "          quickchartButtonEl.classList.add('colab-df-quickchart-complete');\n",
              "        }\n",
              "        (() => {\n",
              "          let quickchartButtonEl =\n",
              "            document.querySelector('#df-6085f689-5141-4a8b-8b88-294b5f51bf49 button');\n",
              "          quickchartButtonEl.style.display =\n",
              "            google.colab.kernel.accessAllowed ? 'block' : 'none';\n",
              "        })();\n",
              "      </script>\n",
              "    </div>\n",
              "    </div>\n",
              "  </div>\n"
            ],
            "application/vnd.google.colaboratory.intrinsic+json": {
              "type": "dataframe",
              "variable_name": "df",
              "summary": "{\n  \"name\": \"df\",\n  \"rows\": 63326,\n  \"fields\": [\n    {\n      \"column\": \"Agency\",\n      \"properties\": {\n        \"dtype\": \"category\",\n        \"num_unique_values\": 16,\n        \"samples\": [\n          \"CBH\",\n          \"CWT\",\n          \"C2B\"\n        ],\n        \"semantic_type\": \"\",\n        \"description\": \"\"\n      }\n    },\n    {\n      \"column\": \"Agency Type\",\n      \"properties\": {\n        \"dtype\": \"category\",\n        \"num_unique_values\": 2,\n        \"samples\": [\n          \"Airlines\",\n          \"Travel Agency\"\n        ],\n        \"semantic_type\": \"\",\n        \"description\": \"\"\n      }\n    },\n    {\n      \"column\": \"Distribution Channel\",\n      \"properties\": {\n        \"dtype\": \"category\",\n        \"num_unique_values\": 2,\n        \"samples\": [\n          \"Online\",\n          \"Offline\"\n        ],\n        \"semantic_type\": \"\",\n        \"description\": \"\"\n      }\n    },\n    {\n      \"column\": \"Product Name\",\n      \"properties\": {\n        \"dtype\": \"category\",\n        \"num_unique_values\": 26,\n        \"samples\": [\n          \"Annual Silver Plan\",\n          \"Individual Comprehensive Plan\"\n        ],\n        \"semantic_type\": \"\",\n        \"description\": \"\"\n      }\n    },\n    {\n      \"column\": \"Claim\",\n      \"properties\": {\n        \"dtype\": \"category\",\n        \"num_unique_values\": 2,\n        \"samples\": [\n          \"Yes\",\n          \"No\"\n        ],\n        \"semantic_type\": \"\",\n        \"description\": \"\"\n      }\n    },\n    {\n      \"column\": \"Duration\",\n      \"properties\": {\n        \"dtype\": \"number\",\n        \"std\": 101,\n        \"min\": -2,\n        \"max\": 4881,\n        \"num_unique_values\": 455,\n        \"samples\": [\n          196,\n          19\n        ],\n        \"semantic_type\": \"\",\n        \"description\": \"\"\n      }\n    },\n    {\n      \"column\": \"Destination\",\n      \"properties\": {\n        \"dtype\": \"category\",\n        \"num_unique_values\": 149,\n        \"samples\": [\n          \"SERBIA\",\n          \"MYANMAR\"\n        ],\n        \"semantic_type\": \"\",\n        \"description\": \"\"\n      }\n    },\n    {\n      \"column\": \"Net Sales\",\n      \"properties\": {\n        \"dtype\": \"number\",\n        \"std\": 48.8456372928922,\n        \"min\": -389.0,\n        \"max\": 810.0,\n        \"num_unique_values\": 1139,\n        \"samples\": [\n          30.39,\n          56.25\n        ],\n        \"semantic_type\": \"\",\n        \"description\": \"\"\n      }\n    },\n    {\n      \"column\": \"Commision (in value)\",\n      \"properties\": {\n        \"dtype\": \"number\",\n        \"std\": 19.804388499379105,\n        \"min\": 0.0,\n        \"max\": 283.5,\n        \"num_unique_values\": 1035,\n        \"samples\": [\n          1.01,\n          26.6\n        ],\n        \"semantic_type\": \"\",\n        \"description\": \"\"\n      }\n    },\n    {\n      \"column\": \"Gender\",\n      \"properties\": {\n        \"dtype\": \"category\",\n        \"num_unique_values\": 2,\n        \"samples\": [\n          \"M\",\n          \"F\"\n        ],\n        \"semantic_type\": \"\",\n        \"description\": \"\"\n      }\n    },\n    {\n      \"column\": \"Age\",\n      \"properties\": {\n        \"dtype\": \"number\",\n        \"std\": 14,\n        \"min\": 0,\n        \"max\": 118,\n        \"num_unique_values\": 89,\n        \"samples\": [\n          72,\n          68\n        ],\n        \"semantic_type\": \"\",\n        \"description\": \"\"\n      }\n    }\n  ]\n}"
            }
          },
          "metadata": {},
          "execution_count": 30
        }
      ]
    },
    {
      "cell_type": "markdown",
      "metadata": {
        "id": "TrN6AmUvO6kB"
      },
      "source": [
        "Скачайте датасет из материалов к уроку или по ссылке https://raw.githubusercontent.com/jupiterzhuo/travel-insurance/master/travel%20insurance.csv\n",
        "\n",
        "\n",
        "Описание признаков:\n",
        "\n",
        "* Agency — название страхового агентства\n",
        "* Agency Type — тип страхового агентства\n",
        "* Distribution Channel — канал продвижения страхового агентства\n",
        "* Product Name — название страхового продукта\n",
        "* Duration — длительность поездки (количество дней)\n",
        "* Destination — направление поездки\n",
        "* Net Sales — сумма продаж\n",
        "* Commission (in value) — комиссия страхового агентства\n",
        "* Gender — пол застрахованного\n",
        "* Age — возраст застрахованного\n",
        "\n",
        "Ответ:\n",
        "* Claim — потребовалась ли страховая выплата: «да» — 1, «нет» — 0"
      ]
    },
    {
      "cell_type": "markdown",
      "metadata": {
        "id": "Mfcl8QY_O6kC"
      },
      "source": [
        "Обработайте пропущенные значения и примените написанные функции onehot_encode() и minmax_scale().\n",
        "\n",
        "**Подсказка**: маску для категориальных признаков можно сделать фильтром cat_features_mask = (df.dtypes == \"object\").values"
      ]
    },
    {
      "cell_type": "code",
      "execution_count": 31,
      "metadata": {
        "id": "DJUGSK5nO6kC"
      },
      "outputs": [],
      "source": [
        "def minmax_scale(X):\n",
        "    X = X.to_numpy().astype(float)\n",
        "    if X.shape[1] > 1:\n",
        "        for j in range(X.shape[1]):\n",
        "            col = X[:, j]\n",
        "            m = np.min(col)\n",
        "            d = np.max(col) - m\n",
        "            if d != 0:\n",
        "                X[:, j] = (col - m) / d\n",
        "            else:\n",
        "                X[:, j] = 0\n",
        "    elif X.shape[1] == 1:\n",
        "        m = np.min(X)\n",
        "        d = np.max(X) - m\n",
        "        if d != 0:\n",
        "            X = (X - m) / d\n",
        "        else:\n",
        "            X[:] = 0\n",
        "    return X\n",
        "\n",
        "def onehot_encoding(array):\n",
        "    unique_values, indices = np.unique(array, return_inverse=True)\n",
        "    rows = array.shape[0]\n",
        "    cols = unique_values.size\n",
        "    A = np.zeros((rows, cols), dtype=int)\n",
        "    for i in range(rows):\n",
        "        j = indices[i]\n",
        "        A[i][j] = 1\n",
        "    return A\n",
        "\n",
        "df.dropna(inplace=True)"
      ]
    },
    {
      "cell_type": "code",
      "source": [
        "def map_region(country):\n",
        "    europe = {'AUSTRIA', 'BELARUS', 'BELGIUM', 'BULGARIA', 'CROATIA', 'CYPRUS',\n",
        "              'CZECH REPUBLIC', 'DENMARK', 'ESTONIA', 'FINLAND', 'FRANCE',\n",
        "              'GERMANY', 'HUNGARY', 'IRELAND', 'ITALY', 'LITHUANIA',\n",
        "              'NETHERLANDS', 'NORWAY', 'POLAND', 'PORTUGAL', 'RUSSIAN FEDERATION',\n",
        "              'SPAIN', 'SWEDEN', 'SWITZERLAND', 'UNITED KINGDOM'}\n",
        "\n",
        "    asia = {'AZERBAIJAN', 'BAHRAIN', 'BANGLADESH', 'BHUTAN', 'BRUNEI DARUSSALAM',\n",
        "            'CAMBODIA', 'CHINA', 'HONG KONG', 'INDIA', 'INDONESIA', 'IRAN, ISLAMIC REPUBLIC OF',\n",
        "            'ISRAEL', 'JAPAN', 'JORDAN', 'KOREA, REPUBLIC OF',\n",
        "            \"LAO PEOPLE'S DEMOCRATIC REPUBLIC\", 'MACAO', 'MALAYSIA', 'MALDIVES',\n",
        "            'MONGOLIA', 'MYANMAR', 'NEPAL', 'OMAN', 'PAKISTAN',\n",
        "            'PHILIPPINES', 'QATAR', 'SINGAPORE', 'SRI LANKA', 'TAIWAN, PROVINCE OF CHINA',\n",
        "            'THAILAND', 'TURKEY', 'TURKMENISTAN', 'UNITED ARAB EMIRATES', 'UZBEKISTAN', 'VIET NAM'}\n",
        "\n",
        "    africa = {'ANGOLA', 'EGYPT', 'GUINEA', 'MALI', 'MAURITIUS', 'NAMIBIA', 'SOUTH AFRICA'}\n",
        "\n",
        "    north_america = {'CANADA', 'UNITED STATES', 'MEXICO'}\n",
        "\n",
        "    south_america = {'ARGENTINA', 'BRAZIL', 'PERU'}\n",
        "\n",
        "    oceania = {'AUSTRALIA', 'NEW ZEALAND', 'PAPUA NEW GUINEA', 'NEW CALEDONIA', 'FRENCH POLYNESIA'}\n",
        "    if country in europe:\n",
        "        return 'Europe'\n",
        "    elif country in asia:\n",
        "        return 'Asia'\n",
        "    elif country in africa:\n",
        "        return 'Africa'\n",
        "    elif country in north_america:\n",
        "        return 'North America'\n",
        "    elif country in south_america:\n",
        "        return 'South America'\n",
        "    elif country in oceania:\n",
        "        return 'Oceania'\n",
        "    else:\n",
        "        return 'Other'\n",
        "\n",
        "df['DestinationRegion'] = df['Destination'].apply(map_region)\n",
        "df.drop(columns=['Destination'], inplace=True)\n",
        "\n",
        "df['Claim'] = df['Claim'].apply(lambda x: 1 if x == 'Yes' else 0)\n",
        "\n",
        "\n",
        "cat_features_mask = (df.dtypes == \"object\").values\n",
        "df_num = df.loc[:, ~cat_features_mask]\n",
        "df_cat = df.loc[:, cat_features_mask]\n",
        "\n",
        "encoded_arrays = []\n",
        "encoded_colnames = []\n",
        "\n",
        "for col in df_cat.columns:\n",
        "    encoded = onehot_encoding(df_cat[col].values)\n",
        "    encoded_arrays.append(encoded)\n",
        "    print(col, np.shape(np.unique(df_cat[col])), np.unique(df_cat[col]))\n",
        "\n",
        "    encoded_colnames += [f\"{col}_{val}\" for val in np.unique(df_cat[col])]\n",
        "\n",
        "encoded_cat_df = pd.DataFrame(\n",
        "    np.hstack(encoded_arrays),\n",
        "    columns=encoded_colnames,\n",
        "    index=df.index\n",
        ")\n",
        "\n",
        "df_work = pd.concat([df_num, encoded_cat_df], axis=1)\n",
        "\n"
      ],
      "metadata": {
        "colab": {
          "base_uri": "https://localhost:8080/"
        },
        "id": "zKPitba-5r5o",
        "outputId": "36bf7094-6a5a-49f5-8a92-b4892f7c86e2"
      },
      "execution_count": 32,
      "outputs": [
        {
          "output_type": "stream",
          "name": "stdout",
          "text": [
            "Agency (14,) ['ADM' 'ART' 'C2B' 'CBH' 'CCR' 'CSR' 'CWT' 'JWT' 'JZI' 'KML' 'LWC' 'RAB'\n",
            " 'TST' 'TTW']\n",
            "Agency Type (2,) ['Airlines' 'Travel Agency']\n",
            "Distribution Channel (2,) ['Offline' 'Online']\n",
            "Product Name (22,) ['24 Protect' 'Annual Gold Plan' 'Annual Silver Plan'\n",
            " 'Annual Travel Protect Gold' 'Annual Travel Protect Platinum'\n",
            " 'Annual Travel Protect Silver' 'Basic Plan' 'Bronze Plan'\n",
            " 'Child Comprehensive Plan' 'Comprehensive Plan' 'Gold Plan'\n",
            " 'Individual Comprehensive Plan' 'Premier Plan'\n",
            " 'Rental Vehicle Excess Insurance' 'Silver Plan'\n",
            " 'Single Trip Travel Protect Gold' 'Single Trip Travel Protect Platinum'\n",
            " 'Single Trip Travel Protect Silver'\n",
            " 'Spouse or Parents Comprehensive Plan' 'Travel Cruise Protect'\n",
            " 'Travel Cruise Protect Family' 'Value Plan']\n",
            "Gender (2,) ['F' 'M']\n",
            "DestinationRegion (7,) ['Africa' 'Asia' 'Europe' 'North America' 'Oceania' 'Other'\n",
            " 'South America']\n"
          ]
        }
      ]
    },
    {
      "cell_type": "markdown",
      "metadata": {
        "id": "yidue6kHO6kE"
      },
      "source": [
        "Подробный анализ и подготовка датасета часто помогают улучшить качество модели. Ниже представлено несколько идей преобразований. Вы можете применить одно или несколько из этих преобразований (а можете не применять), чтобы помочь будущей модели.\n",
        "\n",
        "1. Посмотрите на количественные признаки. Возможно, в некоторых признаках есть выбросы - значения, которые сильно выбиваются. Такие значения полезно удалять. Советуем присмотреться к колонке Duration)\n",
        "\n",
        "2. Можно заметить, что one hot encoding сильно раздувает количество столбцов. Радикальное решение - можно попробовать выбросить все категориальные признаки из датасета.\n",
        "\n",
        "3. Если все-таки оставляете категориальные признаки, то подумайте, как уменьшить количество столбцов после one hot encoding. Признаки с большим количеством значений (Duration - 149! разных стран) можно удалить или попробовать сгруппировать некоторые значения.\n",
        "\n",
        "4. Downsampling. Датасет достаточно большой, разница в классах огромная. Можно уменьшить число наблюдений с частым ответом."
      ]
    },
    {
      "cell_type": "code",
      "execution_count": 33,
      "metadata": {
        "colab": {
          "base_uri": "https://localhost:8080/",
          "height": 625
        },
        "id": "nhwIS21YO6kE",
        "outputId": "7a73cb66-e223-4445-bca4-6a222c1bd31d"
      },
      "outputs": [
        {
          "output_type": "display_data",
          "data": {
            "text/plain": [
              "<Figure size 640x480 with 1 Axes>"
            ],
            "image/png": "[encoded data removed]"
          },
          "metadata": {}
        },
        {
          "output_type": "stream",
          "name": "stdout",
          "text": [
            "count    18219.000000\n",
            "mean        57.488890\n",
            "std         73.884899\n",
            "min       -389.000000\n",
            "25%         22.000000\n",
            "50%         30.000000\n",
            "75%         54.500000\n",
            "max        810.000000\n",
            "Name: Net Sales, dtype: float64\n"
          ]
        }
      ],
      "source": [
        "\n",
        "col = 'Net Sales'\n",
        "sns.boxplot(x=df[col])\n",
        "plt.title(f\"Boxplot для {col}\")\n",
        "plt.show()\n",
        "\n",
        "print(df[col].describe())\n"
      ]
    },
    {
      "cell_type": "markdown",
      "metadata": {
        "id": "_sAMk3ASO6kE"
      },
      "source": [
        "### Применение линейной регрессии (10 баллов)"
      ]
    },
    {
      "cell_type": "markdown",
      "metadata": {
        "id": "1c8EI5Q7O6kE"
      },
      "source": [
        "Это задача классификации, но её можно решить с помощью линейной регрессии, если округлять предсказанный ответ до целого и выбирать ближайший по значению ответ из множества {0, 1}.\n",
        "\n",
        "Вынесите признак 'Claim' в вектор ответов и разделите датасет на обучающую и тестовую выборку в соотношении 80 к 20. Зафиксируйте random_state.\n",
        "\n",
        "**Подсказка:** быстро перевести Yes/No в 1/0 можно так - np.where(df['Claim'] == 'Yes', 1,0)"
      ]
    },
    {
      "cell_type": "markdown",
      "source": [
        "Agency — название страхового агентства\n",
        "Agency Type — тип страхового агентства\n",
        "Distribution Channel — канал продвижения страхового агентства\n",
        "Product Name — название страхового продукта\n",
        "Duration — длительность поездки (количество дней)\n",
        "Destination — направление поездки\n",
        "Net Sales — сумма продаж\n",
        "Commission (in value) — комиссия страхового агентства\n",
        "Gender — пол застрахованного\n",
        "Age — возраст застрахованного"
      ],
      "metadata": {
        "id": "kEZ696dZhCdX"
      }
    },
    {
      "cell_type": "code",
      "execution_count": 34,
      "metadata": {
        "id": "1SANmVFbO6kF"
      },
      "outputs": [],
      "source": [
        "X = df_work.drop(columns=['Claim'])\n",
        "y = df_work['Claim']\n",
        "minmax_scale(X)\n",
        "\n",
        "# разделение на test/train\n",
        "X_train, X_test, y_train, y_test = train_test_split(X, y, train_size=0.8, random_state=42)\n",
        "\n",
        "\n",
        "\n"
      ]
    },
    {
      "cell_type": "markdown",
      "metadata": {
        "id": "AsJyRAZUO6kF"
      },
      "source": [
        "Найдите аналитическое решение для обучающей выборки: обычное и регуляризацией l2."
      ]
    },
    {
      "cell_type": "code",
      "source": [
        "class DummyLinearRegression:\n",
        "    def __init__(self, fit_intercept=True):\n",
        "        self.fit_intercept = fit_intercept\n",
        "        self.w = None\n",
        "        self.la = 1\n",
        "\n",
        "    def fit(self, X, y):\n",
        "        X,y = np.array(X), np.array(y)\n",
        "        if self.fit_intercept:\n",
        "          X = np.hstack([np.ones((X.shape[0], 1)), X])\n",
        "        XtX = X.T @ X\n",
        "        if not np.isclose(np.linalg.det(XtX), 0.0):\n",
        "          self.w = np.linalg.inv(XtX) @ X.T @ y\n",
        "        else:\n",
        "\n",
        "          self.w = np.linalg.pinv(XtX) @ X.T @ y\n",
        "        return self\n",
        "    def fit_with_l2(self, X, y):\n",
        "        X,y = np.array(X), np.array(y)\n",
        "        if self.fit_intercept:\n",
        "          X = np.hstack([np.ones((X.shape[0], 1)), X])\n",
        "\n",
        "        self.w = np.linalg.inv(X.T @ X + self.la**2 * np.eye(X.shape[1])) @ X.T @ y\n",
        "\n",
        "        return self\n",
        "\n",
        "    def predict(self, X):\n",
        "        if self.fit_intercept:\n",
        "          X = np.hstack([np.ones((np.shape(X)[0], 1)), X])\n",
        "        y_pred = X @ self.w\n",
        "\n",
        "        return y_pred\n",
        "\n",
        "    def get_weights(self):\n",
        "        return self.w"
      ],
      "metadata": {
        "id": "nZLIGMXcgAJf"
      },
      "execution_count": 35,
      "outputs": []
    },
    {
      "cell_type": "code",
      "execution_count": 36,
      "metadata": {
        "id": "f0opF0RtO6kF"
      },
      "outputs": [],
      "source": [
        "# посчитайте аналитическое решение\n",
        "model_an = DummyLinearRegression().fit(X_train, y_train)\n",
        "y_pred_an = model_an.predict(X_test)\n",
        "\n",
        "\n"
      ]
    },
    {
      "cell_type": "code",
      "execution_count": 37,
      "metadata": {
        "id": "IEJr4_JXO6kF"
      },
      "outputs": [],
      "source": [
        "# посчитать аналитическое решение с регуляризацией\n",
        "model_an = DummyLinearRegression().fit_with_l2(X_train, y_train)\n",
        "y_pred_an_2 = model_an.predict(X_test)"
      ]
    },
    {
      "cell_type": "markdown",
      "metadata": {
        "id": "-J9sZd4cO6kF"
      },
      "source": [
        "Постройте модель LinearRegression, примените к тестовой выборке и посчитайте MSE (можно использовать библиотеку sklearn)"
      ]
    },
    {
      "cell_type": "code",
      "execution_count": 38,
      "metadata": {
        "id": "slgACe5IO6kG"
      },
      "outputs": [],
      "source": [
        "# обучите модель линейной регрессии LinearRegression на обучающей выборке, примените к тестовой\n",
        "\n",
        "model = LinearRegression().fit(X_train, y_train)\n",
        "y_pred = model.predict(X_test)\n",
        "\n"
      ]
    },
    {
      "cell_type": "code",
      "execution_count": 39,
      "metadata": {
        "colab": {
          "base_uri": "https://localhost:8080/"
        },
        "id": "iTlE0mr7O6kG",
        "outputId": "0381ac1e-5f1a-49d9-e98d-d093f6310cec"
      },
      "outputs": [
        {
          "output_type": "stream",
          "name": "stdout",
          "text": [
            "analytical LR, MSE: 0.03238199780461032\n",
            "analytical LR with L2, MSE: 0.03238199780461032\n",
            "sklearn LR, MSE: 0.03238199780461032\n"
          ]
        }
      ],
      "source": [
        "# посчитайте MSE, предварительно округлив предсказанные ответы до целого\n",
        "print('analytical LR, MSE:', mean_squared_error(y_test, y_pred_an.round()))\n",
        "print('analytical LR with L2, MSE:', mean_squared_error(y_test, y_pred_an_2.round()))\n",
        "print('sklearn LR, MSE:', mean_squared_error(y_test, y_pred.round()))"
      ]
    },
    {
      "cell_type": "markdown",
      "metadata": {
        "id": "2jpBPX4KO6kG"
      },
      "source": [
        "### Вывод (1 балла)"
      ]
    },
    {
      "cell_type": "markdown",
      "metadata": {
        "id": "wMZ0Z21DO6kG"
      },
      "source": [
        "Напишите краткий вывод по заданию (достаточно пары предложений). Расскажите, какие способы предобработки данных вы выбрали и почему. Насколько хороша ваша модель?"
      ]
    }
  ],
  "metadata": {
    "colab": {
      "provenance": [],
      "include_colab_link": true
    },
    "kernelspec": {
      "display_name": "Python 3",
      "language": "python",
      "name": "python3"
    },
    "language_info": {
      "codemirror_mode": {
        "name": "ipython",
        "version": 3
      },
      "file_extension": ".py",
      "mimetype": "text/x-python",
      "name": "python",
      "nbconvert_exporter": "python",
      "pygments_lexer": "ipython3",
      "version": "3.8.5"
    }
  },
  "nbformat": 4,
  "nbformat_minor": 0
}
