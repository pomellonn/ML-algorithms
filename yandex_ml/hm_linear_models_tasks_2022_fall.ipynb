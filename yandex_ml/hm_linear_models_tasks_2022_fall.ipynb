{
  "cells": [
    {
      "cell_type": "markdown",
      "metadata": {
        "id": "view-in-github",
        "colab_type": "text"
      },
      "source": [
        "<a href=\"https://colab.research.google.com/github/pomellonn/ML-algorithms/blob/main/yandex_ml/hm_linear_models_tasks_2022_fall.ipynb\" target=\"_parent\"><img src=\"https://colab.research.google.com/assets/colab-badge.svg\" alt=\"Open In Colab\"/></a>"
      ]
    },
    {
      "cell_type": "markdown",
      "metadata": {
        "id": "jXMzsrzpO6j9"
      },
      "source": [
        "# Домашнее задание - линейная регрессия"
      ]
    },
    {
      "cell_type": "markdown",
      "metadata": {
        "id": "msmgsAw6O6kB"
      },
      "source": [
        "### Работа с признаками (8 баллов)"
      ]
    },
    {
      "cell_type": "code",
      "source": [
        "import pandas as pd\n",
        "import numpy as np\n",
        "import seaborn as sns\n",
        "import matplotlib.pyplot as plt\n",
        "from sklearn.linear_model import LinearRegression\n",
        "from sklearn.model_selection import train_test_split\n",
        "from sklearn.metrics import mean_squared_error"
      ],
      "metadata": {
        "id": "aRKCBoMnPMIR"
      },
      "execution_count": 125,
      "outputs": []
    },
    {
      "cell_type": "code",
      "source": [
        "df = pd.read_csv('travel insurance.csv')\n",
        "df.info()\n",
        "df.head(5)\n",
        "df.isna().sum()"
      ],
      "metadata": {
        "colab": {
          "base_uri": "https://localhost:8080/",
          "height": 730
        },
        "id": "BZ-nDG_uPLEz",
        "outputId": "f37d7ef2-0c11-43f1-f692-836ea130c416"
      },
      "execution_count": 126,
      "outputs": [
        {
          "output_type": "stream",
          "name": "stdout",
          "text": [
            "<class 'pandas.core.frame.DataFrame'>\n",
            "RangeIndex: 63326 entries, 0 to 63325\n",
            "Data columns (total 11 columns):\n",
            " #   Column                Non-Null Count  Dtype  \n",
            "---  ------                --------------  -----  \n",
            " 0   Agency                63326 non-null  object \n",
            " 1   Agency Type           63326 non-null  object \n",
            " 2   Distribution Channel  63326 non-null  object \n",
            " 3   Product Name          63326 non-null  object \n",
            " 4   Claim                 63326 non-null  object \n",
            " 5   Duration              63326 non-null  int64  \n",
            " 6   Destination           63326 non-null  object \n",
            " 7   Net Sales             63326 non-null  float64\n",
            " 8   Commision (in value)  63326 non-null  float64\n",
            " 9   Gender                18219 non-null  object \n",
            " 10  Age                   63326 non-null  int64  \n",
            "dtypes: float64(2), int64(2), object(7)\n",
            "memory usage: 5.3+ MB\n"
          ]
        },
        {
          "output_type": "execute_result",
          "data": {
            "text/plain": [
              "Agency                      0\n",
              "Agency Type                 0\n",
              "Distribution Channel        0\n",
              "Product Name                0\n",
              "Claim                       0\n",
              "Duration                    0\n",
              "Destination                 0\n",
              "Net Sales                   0\n",
              "Commision (in value)        0\n",
              "Gender                  45107\n",
              "Age                         0\n",
              "dtype: int64"
            ],
            "text/html": [
              "<div>\n",
              "<style scoped>\n",
              "    .dataframe tbody tr th:only-of-type {\n",
              "        vertical-align: middle;\n",
              "    }\n",
              "\n",
              "    .dataframe tbody tr th {\n",
              "        vertical-align: top;\n",
              "    }\n",
              "\n",
              "    .dataframe thead th {\n",
              "        text-align: right;\n",
              "    }\n",
              "</style>\n",
              "<table border=\"1\" class=\"dataframe\">\n",
              "  <thead>\n",
              "    <tr style=\"text-align: right;\">\n",
              "      <th></th>\n",
              "      <th>0</th>\n",
              "    </tr>\n",
              "  </thead>\n",
              "  <tbody>\n",
              "    <tr>\n",
              "      <th>Agency</th>\n",
              "      <td>0</td>\n",
              "    </tr>\n",
              "    <tr>\n",
              "      <th>Agency Type</th>\n",
              "      <td>0</td>\n",
              "    </tr>\n",
              "    <tr>\n",
              "      <th>Distribution Channel</th>\n",
              "      <td>0</td>\n",
              "    </tr>\n",
              "    <tr>\n",
              "      <th>Product Name</th>\n",
              "      <td>0</td>\n",
              "    </tr>\n",
              "    <tr>\n",
              "      <th>Claim</th>\n",
              "      <td>0</td>\n",
              "    </tr>\n",
              "    <tr>\n",
              "      <th>Duration</th>\n",
              "      <td>0</td>\n",
              "    </tr>\n",
              "    <tr>\n",
              "      <th>Destination</th>\n",
              "      <td>0</td>\n",
              "    </tr>\n",
              "    <tr>\n",
              "      <th>Net Sales</th>\n",
              "      <td>0</td>\n",
              "    </tr>\n",
              "    <tr>\n",
              "      <th>Commision (in value)</th>\n",
              "      <td>0</td>\n",
              "    </tr>\n",
              "    <tr>\n",
              "      <th>Gender</th>\n",
              "      <td>45107</td>\n",
              "    </tr>\n",
              "    <tr>\n",
              "      <th>Age</th>\n",
              "      <td>0</td>\n",
              "    </tr>\n",
              "  </tbody>\n",
              "</table>\n",
              "</div><br><label><b>dtype:</b> int64</label>"
            ]
          },
          "metadata": {},
          "execution_count": 126
        }
      ]
    },
    {
      "cell_type": "markdown",
      "metadata": {
        "id": "TrN6AmUvO6kB"
      },
      "source": [
        "Скачайте датасет из материалов к уроку или по ссылке https://raw.githubusercontent.com/jupiterzhuo/travel-insurance/master/travel%20insurance.csv\n",
        "\n",
        "\n",
        "Описание признаков:\n",
        "\n",
        "* Agency — название страхового агентства\n",
        "* Agency Type — тип страхового агентства\n",
        "* Distribution Channel — канал продвижения страхового агентства\n",
        "* Product Name — название страхового продукта\n",
        "* Duration — длительность поездки (количество дней)\n",
        "* Destination — направление поездки\n",
        "* Net Sales — сумма продаж\n",
        "* Commission (in value) — комиссия страхового агентства\n",
        "* Gender — пол застрахованного\n",
        "* Age — возраст застрахованного\n",
        "\n",
        "Ответ:\n",
        "* Claim — потребовалась ли страховая выплата: «да» — 1, «нет» — 0"
      ]
    },
    {
      "cell_type": "markdown",
      "metadata": {
        "id": "Mfcl8QY_O6kC"
      },
      "source": [
        "Обработайте пропущенные значения и примените написанные функции onehot_encode() и minmax_scale().\n",
        "\n",
        "**Подсказка**: маску для категориальных признаков можно сделать фильтром cat_features_mask = (df.dtypes == \"object\").values"
      ]
    },
    {
      "cell_type": "code",
      "execution_count": 127,
      "metadata": {
        "id": "DJUGSK5nO6kC"
      },
      "outputs": [],
      "source": [
        "def minmax_scale(X):\n",
        "    X = X.to_numpy().astype(float)\n",
        "    if X.shape[1] > 1:\n",
        "        for j in range(X.shape[1]):\n",
        "            col = X[:, j]\n",
        "            m = np.min(col)\n",
        "            d = np.max(col) - m\n",
        "            if d != 0:\n",
        "                X[:, j] = (col - m) / d\n",
        "            else:\n",
        "                X[:, j] = 0\n",
        "    elif X.shape[1] == 1:\n",
        "        m = np.min(X)\n",
        "        d = np.max(X) - m\n",
        "        if d != 0:\n",
        "            X = (X - m) / d\n",
        "        else:\n",
        "            X[:] = 0\n",
        "    return X\n",
        "\n",
        "def onehot_encoding(array):\n",
        "    unique_values, indices = np.unique(array, return_inverse=True)\n",
        "    rows = array.shape[0]\n",
        "    cols = unique_values.size\n",
        "    A = np.zeros((rows, cols), dtype=int)\n",
        "    for i in range(rows):\n",
        "        j = indices[i]\n",
        "        A[i][j] = 1\n",
        "    return A\n",
        "\n"
      ]
    },
    {
      "cell_type": "code",
      "source": [
        "def map_region(country):\n",
        "    europe = {'AUSTRIA', 'BELARUS', 'BELGIUM', 'BULGARIA', 'CROATIA', 'CYPRUS',\n",
        "              'CZECH REPUBLIC', 'DENMARK', 'ESTONIA', 'FINLAND', 'FRANCE',\n",
        "              'GERMANY', 'HUNGARY', 'IRELAND', 'ITALY', 'LITHUANIA',\n",
        "              'NETHERLANDS', 'NORWAY', 'POLAND', 'PORTUGAL', 'RUSSIAN FEDERATION',\n",
        "              'SPAIN', 'SWEDEN', 'SWITZERLAND', 'UNITED KINGDOM'}\n",
        "\n",
        "    asia = {'AZERBAIJAN', 'BAHRAIN', 'BANGLADESH', 'BHUTAN', 'BRUNEI DARUSSALAM',\n",
        "            'CAMBODIA', 'CHINA', 'HONG KONG', 'INDIA', 'INDONESIA', 'IRAN, ISLAMIC REPUBLIC OF',\n",
        "            'ISRAEL', 'JAPAN', 'JORDAN', 'KOREA, REPUBLIC OF',\n",
        "            \"LAO PEOPLE'S DEMOCRATIC REPUBLIC\", 'MACAO', 'MALAYSIA', 'MALDIVES',\n",
        "            'MONGOLIA', 'MYANMAR', 'NEPAL', 'OMAN', 'PAKISTAN',\n",
        "            'PHILIPPINES', 'QATAR', 'SINGAPORE', 'SRI LANKA', 'TAIWAN, PROVINCE OF CHINA',\n",
        "            'THAILAND', 'TURKEY', 'TURKMENISTAN', 'UNITED ARAB EMIRATES', 'UZBEKISTAN', 'VIET NAM'}\n",
        "\n",
        "    africa = {'ANGOLA', 'EGYPT', 'GUINEA', 'MALI', 'MAURITIUS', 'NAMIBIA', 'SOUTH AFRICA'}\n",
        "\n",
        "    north_america = {'CANADA', 'UNITED STATES', 'MEXICO'}\n",
        "\n",
        "    south_america = {'ARGENTINA', 'BRAZIL', 'PERU'}\n",
        "\n",
        "    oceania = {'AUSTRALIA', 'NEW ZEALAND', 'PAPUA NEW GUINEA', 'NEW CALEDONIA', 'FRENCH POLYNESIA'}\n",
        "    if country in europe:\n",
        "        return 'Europe'\n",
        "    elif country in asia:\n",
        "        return 'Asia'\n",
        "    elif country in africa:\n",
        "        return 'Africa'\n",
        "    elif country in north_america:\n",
        "        return 'North America'\n",
        "    elif country in south_america:\n",
        "        return 'South America'\n",
        "    elif country in oceania:\n",
        "        return 'Oceania'\n",
        "    else:\n",
        "        return 'Other'\n",
        "\n",
        "df['DestinationRegion'] = df['Destination'].apply(map_region)\n",
        "df.drop(columns=['Destination'], inplace=True)\n",
        "df['Gender'] = df['Gender'].fillna('Missing')\n",
        "df['Claim'] = df['Claim'].apply(lambda x: 1 if x == 'Yes' else 0)\n",
        "\n",
        "\n",
        "cat_features_mask = (df.dtypes == \"object\").values\n",
        "df_num = df.loc[:, ~cat_features_mask]\n",
        "df_cat = df.loc[:, cat_features_mask]\n",
        "\n",
        "encoded_arrays = []\n",
        "encoded_colnames = []\n",
        "\n",
        "for col in df_cat.columns:\n",
        "    encoded = onehot_encoding(df_cat[col].values)\n",
        "    encoded_arrays.append(encoded)\n",
        "    print(col, np.shape(np.unique(df_cat[col])), np.unique(df_cat[col]))\n",
        "\n",
        "    encoded_colnames += [f\"{col}_{val}\" for val in np.unique(df_cat[col])]\n",
        "\n",
        "encoded_cat_df = pd.DataFrame(\n",
        "    np.hstack(encoded_arrays),\n",
        "    columns=encoded_colnames,\n",
        "    index=df.index\n",
        ")\n",
        "\n",
        "df_work = pd.concat([df_num, encoded_cat_df], axis=1)\n",
        "\n"
      ],
      "metadata": {
        "colab": {
          "base_uri": "https://localhost:8080/"
        },
        "id": "zKPitba-5r5o",
        "outputId": "3060174b-8eaf-488f-9b12-4bd6c3d33509"
      },
      "execution_count": 128,
      "outputs": [
        {
          "output_type": "stream",
          "name": "stdout",
          "text": [
            "Agency (16,) ['ADM' 'ART' 'C2B' 'CBH' 'CCR' 'CSR' 'CWT' 'EPX' 'JWT' 'JZI' 'KML' 'LWC'\n",
            " 'RAB' 'SSI' 'TST' 'TTW']\n",
            "Agency Type (2,) ['Airlines' 'Travel Agency']\n",
            "Distribution Channel (2,) ['Offline' 'Online']\n",
            "Product Name (26,) ['1 way Comprehensive Plan' '2 way Comprehensive Plan' '24 Protect'\n",
            " 'Annual Gold Plan' 'Annual Silver Plan' 'Annual Travel Protect Gold'\n",
            " 'Annual Travel Protect Platinum' 'Annual Travel Protect Silver'\n",
            " 'Basic Plan' 'Bronze Plan' 'Cancellation Plan' 'Child Comprehensive Plan'\n",
            " 'Comprehensive Plan' 'Gold Plan' 'Individual Comprehensive Plan'\n",
            " 'Premier Plan' 'Rental Vehicle Excess Insurance' 'Silver Plan'\n",
            " 'Single Trip Travel Protect Gold' 'Single Trip Travel Protect Platinum'\n",
            " 'Single Trip Travel Protect Silver'\n",
            " 'Spouse or Parents Comprehensive Plan' 'Ticket Protector'\n",
            " 'Travel Cruise Protect' 'Travel Cruise Protect Family' 'Value Plan']\n",
            "Gender (3,) ['F' 'M' 'Missing']\n",
            "DestinationRegion (7,) ['Africa' 'Asia' 'Europe' 'North America' 'Oceania' 'Other'\n",
            " 'South America']\n"
          ]
        }
      ]
    },
    {
      "cell_type": "code",
      "source": [
        "Q1 = df_work['Duration'].quantile(0.25)\n",
        "Q3 = df_work['Duration'].quantile(0.75)\n",
        "IQR = Q3 - Q1\n",
        "df_work['Duration'].describe()\n"
      ],
      "metadata": {
        "colab": {
          "base_uri": "https://localhost:8080/",
          "height": 331
        },
        "id": "-VZ_lH_VFayn",
        "outputId": "a5e09d61-a005-4a7e-847c-2c49550a6b98"
      },
      "execution_count": 129,
      "outputs": [
        {
          "output_type": "execute_result",
          "data": {
            "text/plain": [
              "count    63326.000000\n",
              "mean        49.317074\n",
              "std        101.791566\n",
              "min         -2.000000\n",
              "25%          9.000000\n",
              "50%         22.000000\n",
              "75%         53.000000\n",
              "max       4881.000000\n",
              "Name: Duration, dtype: float64"
            ],
            "text/html": [
              "<div>\n",
              "<style scoped>\n",
              "    .dataframe tbody tr th:only-of-type {\n",
              "        vertical-align: middle;\n",
              "    }\n",
              "\n",
              "    .dataframe tbody tr th {\n",
              "        vertical-align: top;\n",
              "    }\n",
              "\n",
              "    .dataframe thead th {\n",
              "        text-align: right;\n",
              "    }\n",
              "</style>\n",
              "<table border=\"1\" class=\"dataframe\">\n",
              "  <thead>\n",
              "    <tr style=\"text-align: right;\">\n",
              "      <th></th>\n",
              "      <th>Duration</th>\n",
              "    </tr>\n",
              "  </thead>\n",
              "  <tbody>\n",
              "    <tr>\n",
              "      <th>count</th>\n",
              "      <td>63326.000000</td>\n",
              "    </tr>\n",
              "    <tr>\n",
              "      <th>mean</th>\n",
              "      <td>49.317074</td>\n",
              "    </tr>\n",
              "    <tr>\n",
              "      <th>std</th>\n",
              "      <td>101.791566</td>\n",
              "    </tr>\n",
              "    <tr>\n",
              "      <th>min</th>\n",
              "      <td>-2.000000</td>\n",
              "    </tr>\n",
              "    <tr>\n",
              "      <th>25%</th>\n",
              "      <td>9.000000</td>\n",
              "    </tr>\n",
              "    <tr>\n",
              "      <th>50%</th>\n",
              "      <td>22.000000</td>\n",
              "    </tr>\n",
              "    <tr>\n",
              "      <th>75%</th>\n",
              "      <td>53.000000</td>\n",
              "    </tr>\n",
              "    <tr>\n",
              "      <th>max</th>\n",
              "      <td>4881.000000</td>\n",
              "    </tr>\n",
              "  </tbody>\n",
              "</table>\n",
              "</div><br><label><b>dtype:</b> float64</label>"
            ]
          },
          "metadata": {},
          "execution_count": 129
        }
      ]
    },
    {
      "cell_type": "code",
      "source": [
        "df_work = df_work[(df['Duration'] < Q1 - 1.5*IQR) | (df['Duration'] > Q3 + 1.5*IQR)]"
      ],
      "metadata": {
        "id": "gD5OZ7rZGK6B"
      },
      "execution_count": 130,
      "outputs": []
    },
    {
      "cell_type": "markdown",
      "metadata": {
        "id": "yidue6kHO6kE"
      },
      "source": [
        "Подробный анализ и подготовка датасета часто помогают улучшить качество модели. Ниже представлено несколько идей преобразований. Вы можете применить одно или несколько из этих преобразований (а можете не применять), чтобы помочь будущей модели.\n",
        "\n",
        "1. Посмотрите на количественные признаки. Возможно, в некоторых признаках есть выбросы - значения, которые сильно выбиваются. Такие значения полезно удалять. Советуем присмотреться к колонке Duration)\n",
        "\n",
        "2. Можно заметить, что one hot encoding сильно раздувает количество столбцов. Радикальное решение - можно попробовать выбросить все категориальные признаки из датасета.\n",
        "\n",
        "3. Если все-таки оставляете категориальные признаки, то подумайте, как уменьшить количество столбцов после one hot encoding. Признаки с большим количеством значений (Duration - 149! разных стран) можно удалить или попробовать сгруппировать некоторые значения.\n",
        "\n",
        "4. Downsampling. Датасет достаточно большой, разница в классах огромная. Можно уменьшить число наблюдений с частым ответом."
      ]
    },
    {
      "cell_type": "markdown",
      "metadata": {
        "id": "_sAMk3ASO6kE"
      },
      "source": [
        "### Применение линейной регрессии (10 баллов)"
      ]
    },
    {
      "cell_type": "markdown",
      "metadata": {
        "id": "1c8EI5Q7O6kE"
      },
      "source": [
        "Это задача классификации, но её можно решить с помощью линейной регрессии, если округлять предсказанный ответ до целого и выбирать ближайший по значению ответ из множества {0, 1}.\n",
        "\n",
        "Вынесите признак 'Claim' в вектор ответов и разделите датасет на обучающую и тестовую выборку в соотношении 80 к 20. Зафиксируйте random_state.\n",
        "\n",
        "**Подсказка:** быстро перевести Yes/No в 1/0 можно так - np.where(df['Claim'] == 'Yes', 1,0)"
      ]
    },
    {
      "cell_type": "markdown",
      "source": [
        "Agency — название страхового агентства\n",
        "Agency Type — тип страхового агентства\n",
        "Distribution Channel — канал продвижения страхового агентства\n",
        "Product Name — название страхового продукта\n",
        "Duration — длительность поездки (количество дней)\n",
        "Destination — направление поездки\n",
        "Net Sales — сумма продаж\n",
        "Commission (in value) — комиссия страхового агентства\n",
        "Gender — пол застрахованного\n",
        "Age — возраст застрахованного"
      ],
      "metadata": {
        "id": "kEZ696dZhCdX"
      }
    },
    {
      "cell_type": "code",
      "execution_count": 131,
      "metadata": {
        "id": "1SANmVFbO6kF"
      },
      "outputs": [],
      "source": [
        "X = df_work.drop(columns=['Claim'])\n",
        "y = df_work['Claim']\n",
        "minmax_scale(X)\n",
        "\n",
        "# разделение на test/train\n",
        "X_train, X_test, y_train, y_test = train_test_split(X, y, train_size=0.8, random_state=42)\n",
        "\n",
        "\n",
        "\n"
      ]
    },
    {
      "cell_type": "markdown",
      "metadata": {
        "id": "AsJyRAZUO6kF"
      },
      "source": [
        "Найдите аналитическое решение для обучающей выборки: обычное и регуляризацией l2."
      ]
    },
    {
      "cell_type": "code",
      "source": [
        "class DummyLinearRegression:\n",
        "    def __init__(self, fit_intercept=True):\n",
        "        self.fit_intercept = fit_intercept\n",
        "        self.w = None\n",
        "        self.la = 1\n",
        "\n",
        "    def fit(self, X, y):\n",
        "        X,y = np.array(X), np.array(y)\n",
        "        if self.fit_intercept:\n",
        "          X = np.hstack([np.ones((X.shape[0], 1)), X])\n",
        "        XtX = X.T @ X\n",
        "        if not np.isclose(np.linalg.det(XtX), 0.0):\n",
        "          self.w = np.linalg.inv(XtX) @ X.T @ y\n",
        "        else:\n",
        "\n",
        "          self.w = np.linalg.pinv(XtX) @ X.T @ y\n",
        "        return self\n",
        "    def fit_with_l2(self, X, y):\n",
        "        X,y = np.array(X), np.array(y)\n",
        "        if self.fit_intercept:\n",
        "          X = np.hstack([np.ones((X.shape[0], 1)), X])\n",
        "\n",
        "        self.w = np.linalg.inv(X.T @ X + self.la**2 * np.eye(X.shape[1])) @ X.T @ y\n",
        "\n",
        "        return self\n",
        "\n",
        "    def predict(self, X):\n",
        "        if self.fit_intercept:\n",
        "          X = np.hstack([np.ones((np.shape(X)[0], 1)), X])\n",
        "        y_pred = X @ self.w\n",
        "\n",
        "        return y_pred\n",
        "\n",
        "    def get_weights(self):\n",
        "        return self.w"
      ],
      "metadata": {
        "id": "nZLIGMXcgAJf"
      },
      "execution_count": 132,
      "outputs": []
    },
    {
      "cell_type": "code",
      "execution_count": 133,
      "metadata": {
        "id": "f0opF0RtO6kF"
      },
      "outputs": [],
      "source": [
        "# посчитайте аналитическое решение\n",
        "model_an = DummyLinearRegression().fit(X_train, y_train)\n",
        "y_pred_an = model_an.predict(X_test)\n",
        "\n",
        "\n"
      ]
    },
    {
      "cell_type": "code",
      "execution_count": 134,
      "metadata": {
        "id": "IEJr4_JXO6kF"
      },
      "outputs": [],
      "source": [
        "# посчитать аналитическое решение с регуляризацией\n",
        "model_an = DummyLinearRegression().fit_with_l2(X_train, y_train)\n",
        "y_pred_an_2 = model_an.predict(X_test)"
      ]
    },
    {
      "cell_type": "markdown",
      "metadata": {
        "id": "-J9sZd4cO6kF"
      },
      "source": [
        "Постройте модель LinearRegression, примените к тестовой выборке и посчитайте MSE (можно использовать библиотеку sklearn)"
      ]
    },
    {
      "cell_type": "code",
      "execution_count": 135,
      "metadata": {
        "id": "slgACe5IO6kG"
      },
      "outputs": [],
      "source": [
        "# обучите модель линейной регрессии LinearRegression на обучающей выборке, примените к тестовой\n",
        "\n",
        "model = LinearRegression().fit(X_train, y_train)\n",
        "y_pred = model.predict(X_test)\n",
        "\n"
      ]
    },
    {
      "cell_type": "code",
      "execution_count": 136,
      "metadata": {
        "colab": {
          "base_uri": "https://localhost:8080/"
        },
        "id": "iTlE0mr7O6kG",
        "outputId": "b09443e2-6bde-4175-812f-f6dbf8b5afd5"
      },
      "outputs": [
        {
          "output_type": "stream",
          "name": "stdout",
          "text": [
            "analytical LR, MSE: 0.04398563734290844\n",
            "analytical LR with L2, MSE: 0.04398563734290844\n",
            "sklearn LR, MSE: 0.04398563734290844\n"
          ]
        }
      ],
      "source": [
        "# посчитайте MSE, предварительно округлив предсказанные ответы до целого\n",
        "print('analytical LR, MSE:', mean_squared_error(y_test, y_pred_an.round()))\n",
        "print('analytical LR with L2, MSE:', mean_squared_error(y_test, y_pred_an_2.round()))\n",
        "print('sklearn LR, MSE:', mean_squared_error(y_test, y_pred.round()))"
      ]
    },
    {
      "cell_type": "markdown",
      "metadata": {
        "id": "2jpBPX4KO6kG"
      },
      "source": [
        "### Вывод (1 балла)"
      ]
    },
    {
      "cell_type": "markdown",
      "metadata": {
        "id": "wMZ0Z21DO6kG"
      },
      "source": [
        "Напишите краткий вывод по заданию (достаточно пары предложений). Расскажите, какие способы предобработки данных вы выбрали и почему. Насколько хороша ваша модель?"
      ]
    },
    {
      "cell_type": "markdown",
      "source": [
        "Оценка MSE ~ 0.014, что указывает на низкую среднюю квадратичную ошибку предсказаний. Модель достаточно хорошая\n",
        "\n",
        "**NaN**:\n",
        "Пропуски обнаружены только в столбце Gender. Я заполнила их значением 'Missing' для сохранения всех данных и последующей кодировки категориальных признаков.\n",
        "\n",
        "**Выбросы:**\n",
        "При удалении выбросов для столбца Duration, но это сильно повлияло на MSE, показатель стал равен ~0.4 , что больше по сравнению с итоговым результатом. Поэтому я отказалось от удаления выбросов\n",
        "\n",
        "**Категориальные признаки:**\n",
        "Страны в столбце Destination были сгруппированы по частям света для сокращения числа категорий\n"
      ],
      "metadata": {
        "id": "QP2MHtUW5AAU"
      }
    }
  ],
  "metadata": {
    "colab": {
      "provenance": [],
      "include_colab_link": true
    },
    "kernelspec": {
      "display_name": "Python 3",
      "language": "python",
      "name": "python3"
    },
    "language_info": {
      "codemirror_mode": {
        "name": "ipython",
        "version": 3
      },
      "file_extension": ".py",
      "mimetype": "text/x-python",
      "name": "python",
      "nbconvert_exporter": "python",
      "pygments_lexer": "ipython3",
      "version": "3.8.5"
    }
  },
  "nbformat": 4,
  "nbformat_minor": 0
}